{
 "cells": [
  {
   "cell_type": "code",
   "execution_count": null,
   "metadata": {},
   "outputs": [],
   "source": [
    "import os\n",
    "import re\n",
    "from typing import List, Dict, Any\n",
    "\n",
    "import chromadb\n",
    "import ollama"
   ]
  },
  {
   "cell_type": "code",
   "execution_count": null,
   "metadata": {},
   "outputs": [],
   "source": [
    "def build_rag_dict(directory: str, method_chunks=False) -> Dict[str, Any]:\n",
    "  text_contents = {}\n",
    "\n",
    "  for filename in os.listdir(directory):\n",
    "    if filename.endswith(\".txt\"):\n",
    "      file_path = os.path.join(directory, filename)\n",
    "\n",
    "      with open(file_path, \"r\", encoding=\"utf-8\") as file:\n",
    "        content = file.read()\n",
    "\n",
    "      original_file_name = filename.split('--')[0]\n",
    "\n",
    "      if method_chunks:\n",
    "        text_contents[filename] = {'contents': content, 'file_name': original_file_name}\n",
    "      else:\n",
    "        text_contents[filename] = content\n",
    "\n",
    "  return text_contents"
   ]
  },
  {
   "cell_type": "code",
   "execution_count": null,
   "metadata": {},
   "outputs": [],
   "source": [
    "def collect_code_files(path: str) -> Dict[str, Any]:\n",
    "    \"\"\"\n",
    "    Gets all of the documents in the `code` folder to pass to the Chroma database.\n",
    "    \"\"\"\n",
    "\n",
    "    text_files = {}\n",
    "    sub_directories = ['code']\n",
    "\n",
    "    for sub_directory in sub_directories:\n",
    "        \n",
    "        raw_data_location = os.path.join(path, sub_directory)\n",
    "\n",
    "        text_files.update(build_rag_dict(raw_data_location, method_chunks=True))\n",
    "    return text_files"
   ]
  },
  {
   "cell_type": "code",
   "execution_count": null,
   "metadata": {},
   "outputs": [],
   "source": [
    "def chunk_files(files: Dict[str, str], chunk_size=1400) -> Dict[str, Any]:\n",
    "    chunked_files = {}\n",
    "\n",
    "    for file_name, contents in files.items():\n",
    "        chunks = {}\n",
    "        char_count = 0\n",
    "        start = 0\n",
    "\n",
    "        while start < len(contents):\n",
    "            # Take a chunk of specified size\n",
    "            chunk = contents[start:start+chunk_size]\n",
    "            \n",
    "            # Create chunk name\n",
    "            chunk_count = len(chunks)\n",
    "            chunk_name = f\"{file_name}_{chunk_count}\"\n",
    "            \n",
    "            # Store the chunk\n",
    "            chunks[chunk_name] = {\n",
    "                'contents': chunk, \n",
    "                'file_name': file_name\n",
    "            }\n",
    "\n",
    "            # Move to next chunk\n",
    "            start += chunk_size\n",
    "\n",
    "        chunked_files.update(chunks)\n",
    "\n",
    "    return chunked_files"
   ]
  },
  {
   "cell_type": "code",
   "execution_count": null,
   "metadata": {},
   "outputs": [],
   "source": [
    "def collect_chunked_classes_files(path: str) -> Dict[str, Any]:\n",
    "    \"\"\"\n",
    "    Gets all of the documents in the `classes` folder and \n",
    "    separates them into chunks to pass to the Chroma database.\n",
    "    \"\"\"\n",
    "    text_files = {}\n",
    "    sub_directories = ['classes']\n",
    "\n",
    "    for sub_directory in sub_directories:\n",
    "        \n",
    "        raw_data_location = os.path.join(path, sub_directory)\n",
    "\n",
    "        files = build_rag_dict(raw_data_location)\n",
    "\n",
    "        chunks = chunk_files(files)\n",
    "\n",
    "        text_files.update(chunks)\n",
    "    return text_files"
   ]
  },
  {
   "cell_type": "code",
   "execution_count": null,
   "metadata": {},
   "outputs": [],
   "source": [
    "def get_embeddings(chunks):\n",
    "  embeds = ollama.embed(model=\"snowflake-arctic-embed\", input=chunks)\n",
    "  return embeds.get('embeddings', [])"
   ]
  },
  {
   "cell_type": "code",
   "execution_count": null,
   "metadata": {},
   "outputs": [],
   "source": [
    "chroma_client = chromadb.HttpClient(host=\"localhost\", port=8000)"
   ]
  },
  {
   "cell_type": "code",
   "execution_count": null,
   "metadata": {},
   "outputs": [],
   "source": [
    "def embed(collection_name: str, data_source: str, source_type: str):\n",
    "    if source_type == 'code':\n",
    "        data = collect_code_files(data_source)\n",
    "    elif source_type == 'class':\n",
    "        data = collect_chunked_classes_files(data_source)\n",
    "    else:\n",
    "        raise Exception(\"Invalid source type\")\n",
    "    \n",
    "    data_names = list(data.keys())\n",
    "    data_array = data.values()\n",
    "    contents = [item['contents'] for item in data_array]\n",
    "    embeddings = []\n",
    "    metadata = [{\"source\": item['file_name']} for item in data_array]\n",
    "\n",
    "    for item in contents:\n",
    "        truncated_item = item[:1400]\n",
    "        print(truncated_item + '\\n\\n\\n')\n",
    "        embeddings += get_embeddings(truncated_item)\n",
    "\n",
    "    collection = chroma_client.get_or_create_collection(name=collection_name, metadata={\"hnsw:space\": \"cosine\"})\n",
    "    collection.add(ids=data_names, documents=contents, embeddings=embeddings, metadatas=metadata)"
   ]
  },
  {
   "cell_type": "code",
   "execution_count": null,
   "metadata": {},
   "outputs": [],
   "source": [
    "embed('desktop_code', 'desktop_documents', 'code')\n",
    "embed('mobile_code', 'mobile_documents', 'code')\n",
    "embed('driver_code', 'driver_documents', 'code')\n",
    "embed('desktop_class', 'desktop_documents', 'class')\n",
    "embed('mobile_class', 'mobile_documents', 'class')\n",
    "embed('driver_class', 'driver_documents', 'class')"
   ]
  }
 ],
 "metadata": {
  "kernelspec": {
   "display_name": "venv",
   "language": "python",
   "name": "python3"
  },
  "language_info": {
   "codemirror_mode": {
    "name": "ipython",
    "version": 3
   },
   "file_extension": ".py",
   "mimetype": "text/x-python",
   "name": "python",
   "nbconvert_exporter": "python",
   "pygments_lexer": "ipython3",
   "version": "3.12.3"
  }
 },
 "nbformat": 4,
 "nbformat_minor": 2
}
